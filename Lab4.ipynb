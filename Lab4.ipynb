{
  "nbformat": 4,
  "nbformat_minor": 0,
  "metadata": {
    "colab": {
      "provenance": [],
      "authorship_tag": "ABX9TyOB/51gSXhRoLyN0uP+5RQp",
      "include_colab_link": true
    },
    "kernelspec": {
      "name": "python3",
      "display_name": "Python 3"
    },
    "language_info": {
      "name": "python"
    }
  },
  "cells": [
    {
      "cell_type": "markdown",
      "metadata": {
        "id": "view-in-github",
        "colab_type": "text"
      },
      "source": [
        "<a href=\"https://colab.research.google.com/github/bienduc08/COM8-25021724/blob/main/Lab4.ipynb\" target=\"_parent\"><img src=\"https://colab.research.google.com/assets/colab-badge.svg\" alt=\"Open In Colab\"/></a>"
      ]
    },
    {
      "cell_type": "code",
      "execution_count": null,
      "metadata": {
        "colab": {
          "base_uri": "https://localhost:8080/"
        },
        "id": "8z96MwPqA5Z5",
        "outputId": "5574600f-4efa-477f-a59a-32173b505801"
      },
      "outputs": [
        {
          "output_type": "stream",
          "name": "stdout",
          "text": [
            "6\n",
            "21\n"
          ]
        }
      ],
      "source": [
        "#W4A1\n",
        "n=int(input())\n",
        "if n<=1000:\n",
        "  a=0\n",
        "  for i in range(n+1):\n",
        "    a=a+i\n",
        "print(a)\n"
      ]
    },
    {
      "cell_type": "code",
      "source": [
        "#W4A2\n",
        "def is_prime(x):\n",
        "    if x < 2: return False\n",
        "    for i in range(2, int(x**0.5)+1):\n",
        "        if x % i == 0:\n",
        "            return False\n",
        "    return True\n",
        "\n",
        "while True:\n",
        "    n = int(input())\n",
        "    if n > 0:\n",
        "        print(is_prime(n))\n",
        "        break\n"
      ],
      "metadata": {
        "id": "iYvdgTGeCf8-",
        "colab": {
          "base_uri": "https://localhost:8080/"
        },
        "outputId": "19f3dc7f-d80b-4b18-f2ed-8adbafde3ff1"
      },
      "execution_count": null,
      "outputs": [
        {
          "output_type": "stream",
          "name": "stdout",
          "text": [
            "97\n",
            "True\n"
          ]
        }
      ]
    },
    {
      "cell_type": "code",
      "source": [
        "print(int(8**0.5)+1)"
      ],
      "metadata": {
        "colab": {
          "base_uri": "https://localhost:8080/"
        },
        "id": "EF9VYowAbkTG",
        "outputId": "e007c401-9220-4435-da09-efdf89aaeaea"
      },
      "execution_count": null,
      "outputs": [
        {
          "output_type": "stream",
          "name": "stdout",
          "text": [
            "3\n"
          ]
        }
      ]
    },
    {
      "cell_type": "code",
      "source": [
        "#W4A3\n",
        "n=int(input())\n",
        "a=1\n",
        "for i in range(1,n+1):\n",
        "  a=a*i\n",
        "print(a)"
      ],
      "metadata": {
        "colab": {
          "base_uri": "https://localhost:8080/"
        },
        "id": "6ymjiEKLCkKS",
        "outputId": "d88be232-19a1-4841-b845-c2ed902ba99f"
      },
      "execution_count": null,
      "outputs": [
        {
          "output_type": "stream",
          "name": "stdout",
          "text": [
            "7\n",
            "5040\n"
          ]
        }
      ]
    },
    {
      "cell_type": "code",
      "source": [
        "#W4A4\n",
        "num = int(input())\n",
        "count = 0\n",
        "if num == 0 :\n",
        "  print(1)\n",
        "elif num>0:\n",
        "  while num != 0:\n",
        "    num //= 10\n",
        "    count += 1\n",
        "  print(count)\n",
        "elif num<0:\n",
        "  num=num*-1\n",
        "  while num != 0:\n",
        "    num //= 10\n",
        "    count += 1\n",
        "  print(count)"
      ],
      "metadata": {
        "id": "M6c_w3L-OzYe",
        "colab": {
          "base_uri": "https://localhost:8080/"
        },
        "outputId": "1b77b2a5-43e7-4ab2-a026-dab27e4baf03"
      },
      "execution_count": null,
      "outputs": [
        {
          "output_type": "stream",
          "name": "stdout",
          "text": [
            "-5795479\n",
            "7\n"
          ]
        }
      ]
    },
    {
      "cell_type": "code",
      "source": [
        "#W4A5\n",
        "n=int(input())\n",
        "s=[]\n",
        "for i in range(n):\n",
        "  num=int(input())\n",
        "  s.insert(i,num)\n",
        "so=42\n",
        "if so in s:\n",
        "  print(\"I′ve found the meaning of life!\")\n",
        "else:\n",
        "  print(\"I′ve not found the meaning of life!\")"
      ],
      "metadata": {
        "id": "4a4UY2eoPLgM",
        "colab": {
          "base_uri": "https://localhost:8080/"
        },
        "outputId": "a26e6f36-152b-40cd-ec60-57b4ad696dd7"
      },
      "execution_count": null,
      "outputs": [
        {
          "output_type": "stream",
          "name": "stdout",
          "text": [
            "5\n",
            "32677\n",
            "42\n",
            "37667\n",
            "54\n",
            "45\n",
            "I′ve found the meaning of life!\n"
          ]
        }
      ]
    },
    {
      "cell_type": "code",
      "source": [
        "#W4A6\n",
        "def is_prime(n): # tìm số nguyên tố\n",
        "    if n < 2: return False\n",
        "    for i in range(2,int(n**0.5)+1):\n",
        "        if n % i == 0:\n",
        "            return False\n",
        "    return True\n",
        "\n",
        "a, b = map(int, input().split())\n",
        "s = 0\n",
        "for x in range(a, b + 1):\n",
        "    if is_prime(x):\n",
        "        s += x\n",
        "print(s)\n"
      ],
      "metadata": {
        "colab": {
          "base_uri": "https://localhost:8080/"
        },
        "id": "qum_6CA9z5uG",
        "outputId": "64560ec8-b34c-4925-bd05-0300d309408d"
      },
      "execution_count": null,
      "outputs": [
        {
          "output_type": "stream",
          "name": "stdout",
          "text": [
            "5 15\n",
            "36\n"
          ]
        }
      ]
    },
    {
      "cell_type": "code",
      "source": [
        "#W4A7\n",
        "n = int(input())\n",
        "p = 2\n",
        "while p * p <= n:\n",
        "    if n % p == 0:\n",
        "        n //= p\n",
        "    else:\n",
        "        p += 1\n",
        "print(n)"
      ],
      "metadata": {
        "colab": {
          "base_uri": "https://localhost:8080/"
        },
        "id": "KlpvsmcQax27",
        "outputId": "64cd9d72-5c2a-45ab-ff7d-5683633b6603"
      },
      "execution_count": null,
      "outputs": [
        {
          "output_type": "stream",
          "name": "stdout",
          "text": [
            "18\n",
            "3\n"
          ]
        }
      ]
    },
    {
      "cell_type": "code",
      "source": [
        "#W4A8\n",
        "def is_palindrome(x):# số đối xứng\n",
        "    s = str(x)\n",
        "    return s == s[::-1]\n",
        "\n",
        "def reverse(x):  # nghịch dảo của x\n",
        "    return int(str(x)[::-1])\n",
        "\n",
        "n = int(input())\n",
        "count = 0\n",
        "while not is_palindrome(n):\n",
        "    n += reverse(n)\n",
        "    count += 1\n",
        "print(count, n)"
      ],
      "metadata": {
        "id": "jo88TX0KUAqo",
        "colab": {
          "base_uri": "https://localhost:8080/"
        },
        "outputId": "6b718fac-79c9-485e-a354-acec4293e2fb"
      },
      "execution_count": null,
      "outputs": [
        {
          "output_type": "stream",
          "name": "stdout",
          "text": [
            "98\n",
            "24 8813200023188\n"
          ]
        }
      ]
    },
    {
      "cell_type": "code",
      "source": [
        "#w4A9\n",
        "n = int(input())\n",
        "res = []\n",
        "for i in range(1, int(n**0.5) + 1):\n",
        "    sq = i * i\n",
        "    s = str(sq)\n",
        "    if len(set(s)) == len(s):\n",
        "        res.append(str(sq))\n",
        "print(' '.join(res) if res else 'no number')"
      ],
      "metadata": {
        "id": "OOF3Fnxt4wWX",
        "colab": {
          "base_uri": "https://localhost:8080/"
        },
        "outputId": "1297a02c-5c43-4e43-f7a3-80a5f7f0cacb"
      },
      "execution_count": null,
      "outputs": [
        {
          "output_type": "stream",
          "name": "stdout",
          "text": [
            "95\n",
            "1 4 9 16 25 36 49 64 81\n"
          ]
        }
      ]
    },
    {
      "cell_type": "code",
      "source": [
        "#W4A10\n",
        "def collatz_length(n):\n",
        "    length = 1\n",
        "    while n != 1:\n",
        "        if n % 2 == 0:\n",
        "            n //= 2\n",
        "        else:\n",
        "            n = 3*n + 1\n",
        "        length += 1\n",
        "    return length\n",
        "\n",
        "n = int(input())\n",
        "best_x, best_len = 1, 1\n",
        "for x in range(1, n + 1):\n",
        "    L = collatz_length(x)\n",
        "    if L > best_len or (L == best_len and x < best_x):\n",
        "        best_x, best_len = x, L\n",
        "print(best_x, best_len)"
      ],
      "metadata": {
        "id": "Sr8VpF-N4yr1",
        "colab": {
          "base_uri": "https://localhost:8080/"
        },
        "outputId": "b492c6c1-cecd-4c00-9171-b75acaf83d29"
      },
      "execution_count": null,
      "outputs": [
        {
          "output_type": "stream",
          "name": "stdout",
          "text": [
            "2\n",
            "2 2\n"
          ]
        }
      ]
    },
    {
      "cell_type": "code",
      "source": [
        "# W4A11\n",
        "import math\n",
        "n = int(input())\n",
        "cnt = 0\n",
        "r = math.isqrt(n)\n",
        "for d in range(1, r+1):\n",
        "    if n % d == 0:\n",
        "        e = n // d\n",
        "        if d % 2 == 0: cnt += 1\n",
        "        if e != d and e % 2 == 0: cnt += 1\n",
        "print(cnt)"
      ],
      "metadata": {
        "id": "KMrmr1YX4yoV",
        "colab": {
          "base_uri": "https://localhost:8080/"
        },
        "outputId": "07a2ac2d-c8d4-426b-ddb0-a20d05298e16"
      },
      "execution_count": null,
      "outputs": [
        {
          "output_type": "stream",
          "name": "stdout",
          "text": [
            "96\n",
            "10\n"
          ]
        }
      ]
    },
    {
      "cell_type": "code",
      "source": [
        "# W4A12\n",
        "X, N = map(int, input().split())\n",
        "amt = X\n",
        "for _ in range(N):\n",
        "    amt = amt * 1.007\n",
        "print(int(amt))"
      ],
      "metadata": {
        "id": "ANFnmULW4ylB",
        "colab": {
          "base_uri": "https://localhost:8080/"
        },
        "outputId": "2ee397cd-d5ae-490f-a708-6def24e7f744"
      },
      "execution_count": null,
      "outputs": [
        {
          "output_type": "stream",
          "name": "stdout",
          "text": [
            "76 6\n",
            "79\n"
          ]
        }
      ]
    },
    {
      "cell_type": "code",
      "source": [
        "#W4A13\n",
        "import math\n",
        "def sum_proper_div(n):\n",
        "    if n <= 1: return 0\n",
        "    s = 1\n",
        "    r = math.isqrt(n)\n",
        "    for i in range(2, r+1):\n",
        "        if n % i == 0:\n",
        "            s += i\n",
        "            j = n // i\n",
        "            if j != i: s += j\n",
        "    return s\n",
        "\n",
        "a, b = map(int, input().split())\n",
        "print(\"true\" if sum_proper_div(a) == b and sum_proper_div(b) == a else \"false\")"
      ],
      "metadata": {
        "id": "3a08IfU_4yhy",
        "colab": {
          "base_uri": "https://localhost:8080/"
        },
        "outputId": "aed56d40-bb39-4607-93be-af51dcad20d7"
      },
      "execution_count": null,
      "outputs": [
        {
          "output_type": "stream",
          "name": "stdout",
          "text": [
            "220 284\n",
            "true\n"
          ]
        }
      ]
    },
    {
      "cell_type": "code",
      "source": [
        "# W4A14\n",
        "import math\n",
        "a, b = map(int, input().split())\n",
        "print(math.gcd(a, b))"
      ],
      "metadata": {
        "id": "GiPqQLCP4yef",
        "colab": {
          "base_uri": "https://localhost:8080/"
        },
        "outputId": "e4388361-b56c-48db-ac90-ecd7d3478a39"
      },
      "execution_count": null,
      "outputs": [
        {
          "output_type": "stream",
          "name": "stdout",
          "text": [
            "36 86\n",
            "2\n"
          ]
        }
      ]
    },
    {
      "cell_type": "code",
      "source": [
        "# W4A15\n",
        "total, legs = map(int, input().split())\n",
        "if (legs - 2*total) % 2 != 0:\n",
        "    print(\"invalid\")\n",
        "else:\n",
        "    d = (legs - 2*total)//2\n",
        "    c = total - d\n",
        "    if c < 0 or d < 0:\n",
        "        print(\"invalid\")\n",
        "    else:\n",
        "        print(c, d)"
      ],
      "metadata": {
        "id": "HuGpuiMK4ybP",
        "colab": {
          "base_uri": "https://localhost:8080/"
        },
        "outputId": "66d7ed26-fad5-4049-80bf-22231768ede6"
      },
      "execution_count": null,
      "outputs": [
        {
          "output_type": "stream",
          "name": "stdout",
          "text": [
            "36 100\n",
            "22 14\n"
          ]
        }
      ]
    },
    {
      "cell_type": "code",
      "source": [
        "# W4A16\n",
        "print(' '.join(str(i) for i in range(2, 100) if i % 2 == 0 and i % 3 == 0))\n"
      ],
      "metadata": {
        "colab": {
          "base_uri": "https://localhost:8080/"
        },
        "id": "mLCc0Xxu4yXl",
        "outputId": "e6b65412-9d08-415f-dfd4-ae8456997cd7"
      },
      "execution_count": null,
      "outputs": [
        {
          "output_type": "stream",
          "name": "stdout",
          "text": [
            "6 12 18 24 30 36 42 48 54 60 66 72 78 84 90 96\n"
          ]
        }
      ]
    },
    {
      "cell_type": "code",
      "source": [
        "# W4A17\n",
        "a = int(input())\n",
        "for i in range(1, 11):\n",
        "    print(f\"{a} x {i} = {a*i}\")\n"
      ],
      "metadata": {
        "id": "GKrNxSgM4yUE",
        "colab": {
          "base_uri": "https://localhost:8080/"
        },
        "outputId": "30a18b57-dad4-4ed3-ffed-5e40c9e4b74e"
      },
      "execution_count": null,
      "outputs": [
        {
          "output_type": "stream",
          "name": "stdout",
          "text": [
            "8\n",
            "8 x 1 = 8\n",
            "8 x 2 = 16\n",
            "8 x 3 = 24\n",
            "8 x 4 = 32\n",
            "8 x 5 = 40\n",
            "8 x 6 = 48\n",
            "8 x 7 = 56\n",
            "8 x 8 = 64\n",
            "8 x 9 = 72\n",
            "8 x 10 = 80\n"
          ]
        }
      ]
    },
    {
      "cell_type": "code",
      "source": [
        "# W4A18\n",
        "import math\n",
        "a = int(input()); b = int(input())\n",
        "g = math.gcd(a, b)\n",
        "divs = []\n",
        "r = int(math.isqrt(g))\n",
        "for i in range(1, r+1):\n",
        "    if g % i == 0:\n",
        "        divs.append(i)\n",
        "        if g//i != i: divs.append(g//i)\n",
        "print(' '.join(map(str, sorted(divs))))\n"
      ],
      "metadata": {
        "id": "kJVzPf1a4yPt",
        "colab": {
          "base_uri": "https://localhost:8080/"
        },
        "outputId": "5adbb191-6412-46d5-981c-9e5074f9aec4"
      },
      "execution_count": null,
      "outputs": [
        {
          "output_type": "stream",
          "name": "stdout",
          "text": [
            "36\n",
            "48\n",
            "1 2 3 4 6 12\n"
          ]
        }
      ]
    },
    {
      "cell_type": "code",
      "source": [
        "# W4A19\n",
        "n = int(input())\n",
        "print(' '.join(str(i) for i in range(2, n+1, 2)))\n"
      ],
      "metadata": {
        "id": "Y_YYMHRJ4yL4",
        "colab": {
          "base_uri": "https://localhost:8080/"
        },
        "outputId": "04a26f41-04e7-47be-d6dc-f4852aa76ccc"
      },
      "execution_count": null,
      "outputs": [
        {
          "output_type": "stream",
          "name": "stdout",
          "text": [
            "77\n",
            "2 4 6 8 10 12 14 16 18 20 22 24 26 28 30 32 34 36 38 40 42 44 46 48 50 52 54 56 58 60 62 64 66 68 70 72 74 76\n"
          ]
        }
      ]
    },
    {
      "cell_type": "code",
      "source": [
        "# W4A20\n",
        "n = int(input())\n",
        "print(\"YES\" if n > 0 and (n & (n-1)) == 0 else \"NO\")\n"
      ],
      "metadata": {
        "id": "5shXxf8o4yI4",
        "colab": {
          "base_uri": "https://localhost:8080/"
        },
        "outputId": "e305f597-7f25-4cde-c40a-806de140e85f"
      },
      "execution_count": null,
      "outputs": [
        {
          "output_type": "stream",
          "name": "stdout",
          "text": [
            "1\n",
            "YES\n"
          ]
        }
      ]
    },
    {
      "cell_type": "code",
      "source": [
        "# W4A21\n",
        "n = abs(int(input()))\n",
        "s = 0\n",
        "if n == 0: print(0)\n",
        "else:\n",
        "    while n:\n",
        "        s += n % 10\n",
        "        n //= 10\n",
        "    print(s)\n"
      ],
      "metadata": {
        "id": "PIPGzltz4yEm",
        "colab": {
          "base_uri": "https://localhost:8080/"
        },
        "outputId": "389203e3-d39f-41c2-ba05-ed3bde1bf090"
      },
      "execution_count": null,
      "outputs": [
        {
          "output_type": "stream",
          "name": "stdout",
          "text": [
            "6533\n",
            "17\n"
          ]
        }
      ]
    },
    {
      "cell_type": "code",
      "source": [
        "# W4A22\n",
        "n = abs(int(input()))\n",
        "even = odd = 0\n",
        "if n == 0:\n",
        "    even = 1\n",
        "else:\n",
        "    while n:\n",
        "        d = n % 10\n",
        "        if d % 2 == 0: even += 1\n",
        "        else: odd += 1\n",
        "        n //= 10\n",
        "print(even, odd)\n"
      ],
      "metadata": {
        "id": "P4EmM0Cv4yAh",
        "colab": {
          "base_uri": "https://localhost:8080/"
        },
        "outputId": "e5933f13-2705-421f-e966-eb52a3b3846b"
      },
      "execution_count": null,
      "outputs": [
        {
          "output_type": "stream",
          "name": "stdout",
          "text": [
            "46726952\n",
            "5 3\n"
          ]
        }
      ]
    },
    {
      "cell_type": "code",
      "source": [
        "# W4A23\n",
        "n = int(input())\n",
        "k = 0\n",
        "s = 0\n",
        "while s + (k+1) < n:\n",
        "    k += 1\n",
        "    s += k\n",
        "print(k)\n"
      ],
      "metadata": {
        "id": "d_3ICltS4x8Y",
        "colab": {
          "base_uri": "https://localhost:8080/"
        },
        "outputId": "1bf96ce1-8136-4ad1-c4a2-be3823c21928"
      },
      "execution_count": null,
      "outputs": [
        {
          "output_type": "stream",
          "name": "stdout",
          "text": [
            "21\n",
            "5\n"
          ]
        }
      ]
    },
    {
      "cell_type": "code",
      "source": [
        "# W4A24\n",
        "A = float(input())\n",
        "s = 0.0\n",
        "n = 0\n",
        "while s <= A:\n",
        "    n += 1\n",
        "    s += 1.0/n\n",
        "print(n)\n"
      ],
      "metadata": {
        "id": "EHLPNXL_4x44",
        "colab": {
          "base_uri": "https://localhost:8080/"
        },
        "outputId": "025a252c-976f-428f-f28d-2a3d0f535427"
      },
      "execution_count": null,
      "outputs": [
        {
          "output_type": "stream",
          "name": "stdout",
          "text": [
            "7\n",
            "616\n"
          ]
        }
      ]
    },
    {
      "cell_type": "code",
      "source": [
        "# W4A25\n",
        "n=int(input())\n",
        "max=n\n",
        "min=n\n",
        "while n!=-1:\n",
        "  if n>max:\n",
        "    max=n\n",
        "  if n<min:\n",
        "    min=n\n",
        "  n=int(input())\n",
        "print(max,min)"
      ],
      "metadata": {
        "id": "Gjl9Od6y4x1V",
        "colab": {
          "base_uri": "https://localhost:8080/"
        },
        "outputId": "ef9750b4-2820-4818-f50b-45525bfe8acd"
      },
      "execution_count": 14,
      "outputs": [
        {
          "output_type": "stream",
          "name": "stdout",
          "text": [
            "638634\n",
            "4827\n",
            "356\n",
            "3578\n",
            "-1\n",
            "638634 356\n"
          ]
        }
      ]
    },
    {
      "cell_type": "code",
      "source": [
        "# W4A26\n",
        "A = int(input())\n",
        "a, b = 1, 1\n",
        "if A < 1:\n",
        "    print(0)\n",
        "else:\n",
        "    while b <= A:\n",
        "        a, b = b, a + b\n",
        "    print(a)\n"
      ],
      "metadata": {
        "id": "Ix0M8ip54xx_",
        "colab": {
          "base_uri": "https://localhost:8080/"
        },
        "outputId": "433d0ace-f136-4513-9f21-9eb9834efab2"
      },
      "execution_count": null,
      "outputs": [
        {
          "output_type": "stream",
          "name": "stdout",
          "text": [
            "76\n",
            "55\n"
          ]
        }
      ]
    },
    {
      "cell_type": "code",
      "source": [
        "# W4A27\n",
        "s = input().strip()\n",
        "count = 0\n",
        "in_word = False\n",
        "for ch in s:\n",
        "    if ch.isalpha():\n",
        "        if not in_word:\n",
        "            count += 1\n",
        "            in_word = True\n",
        "    else:\n",
        "        in_word = False\n",
        "print(count)\n"
      ],
      "metadata": {
        "id": "tKjWpBXY4xuU",
        "colab": {
          "base_uri": "https://localhost:8080/"
        },
        "outputId": "1ca68f40-8707-4102-eb08-d9153a3d1e72"
      },
      "execution_count": 13,
      "outputs": [
        {
          "output_type": "stream",
          "name": "stdout",
          "text": [
            " fsdjkfs sfdjskfs sdjkgs feajh sfhfds    \n",
            "5\n"
          ]
        }
      ]
    },
    {
      "cell_type": "code",
      "source": [
        "# W4A28\n",
        "s = input()\n",
        "word = []\n",
        "for ch in s:\n",
        "    if ch.isspace():\n",
        "        break\n",
        "    word.append(ch)\n",
        "print( ''.join(word))"
      ],
      "metadata": {
        "id": "FQLhi4SZ4xp-",
        "colab": {
          "base_uri": "https://localhost:8080/"
        },
        "outputId": "3b7b000b-be06-4c37-97f8-468966ab9377"
      },
      "execution_count": 12,
      "outputs": [
        {
          "output_type": "stream",
          "name": "stdout",
          "text": [
            "fdjkg dgjkgdhk dgkjdg\n",
            "fdjkg\n"
          ]
        }
      ]
    },
    {
      "cell_type": "code",
      "source": [
        "# W4A29\n",
        "s = input(\"Nhập:\").strip()\n",
        "parts = [int(x.strip()) for x in s.split(',')]\n",
        "print(sum(parts))"
      ],
      "metadata": {
        "id": "wYS0w5oB4xlP",
        "colab": {
          "base_uri": "https://localhost:8080/"
        },
        "outputId": "603d72b1-6736-4704-9e7b-e1adb4579ca2"
      },
      "execution_count": null,
      "outputs": [
        {
          "output_type": "stream",
          "name": "stdout",
          "text": [
            "Nhập:5765,766,668\n",
            "7199\n"
          ]
        }
      ]
    },
    {
      "cell_type": "code",
      "source": [
        "# W4A30\n",
        "s = input()\n",
        "up = low = dig = 0\n",
        "for ch in s:\n",
        "    if ch.isupper(): up += 1\n",
        "    elif ch.islower(): low += 1\n",
        "    elif ch.isdigit(): dig += 1\n",
        "print(up, low, dig)\n"
      ],
      "metadata": {
        "id": "owh3TbvG6KQp",
        "colab": {
          "base_uri": "https://localhost:8080/"
        },
        "outputId": "3f656967-e5cf-4129-eb94-3d040799e8de"
      },
      "execution_count": null,
      "outputs": [
        {
          "output_type": "stream",
          "name": "stdout",
          "text": [
            "DHGGmnasjdkfjk24727HGDS\n",
            "8 10 5\n"
          ]
        }
      ]
    },
    {
      "cell_type": "code",
      "source": [
        "# W4A31\n",
        "s = input()\n",
        "total = 0\n",
        "for ch in s:\n",
        "    if ch.isdigit():\n",
        "        total += int(ch)\n",
        "print(total)\n"
      ],
      "metadata": {
        "id": "BjQaA50m6KKz",
        "colab": {
          "base_uri": "https://localhost:8080/"
        },
        "outputId": "5edf56a3-2048-4868-e727-0056d148826c"
      },
      "execution_count": null,
      "outputs": [
        {
          "output_type": "stream",
          "name": "stdout",
          "text": [
            "xjfsdjhfeuj38t3489dnfgr83483\n",
            "61\n"
          ]
        }
      ]
    },
    {
      "cell_type": "code",
      "source": [
        "# W4A32\n",
        "s = input().strip()\n",
        "if len(s) <= 6:\n",
        "    print(\"NO\")\n",
        "else:\n",
        "    has_upper = any(ch.isupper() for ch in s)\n",
        "    has_lower = any(ch.islower() for ch in s)\n",
        "    has_digit = any(ch.isdigit() for ch in s)\n",
        "    has_special = any(not ch.isalnum() for ch in s)\n",
        "    print(\"YES\" if (has_upper and has_lower and has_digit and has_special) else \"NO\")\n"
      ],
      "metadata": {
        "id": "kTqIqe3p6KF6"
      },
      "execution_count": null,
      "outputs": []
    },
    {
      "cell_type": "code",
      "source": [
        "# W4A33\n",
        "n = int(input())\n",
        "s = str(n)\n",
        "parts = []\n",
        "while len(s) > 3:\n",
        "    parts.append(s[-3:])\n",
        "    s = s[:-3]\n",
        "parts.append(s)\n",
        "print('.'.join(reversed(parts)))\n"
      ],
      "metadata": {
        "id": "7Z5tHtgz6J_o",
        "colab": {
          "base_uri": "https://localhost:8080/"
        },
        "outputId": "5b358dd3-4bcb-41bc-c599-b0678a02c7b3"
      },
      "execution_count": null,
      "outputs": [
        {
          "output_type": "stream",
          "name": "stdout",
          "text": [
            "2357627656917\n",
            "2.357.627.656.917\n"
          ]
        }
      ]
    },
    {
      "cell_type": "code",
      "source": [
        "# W4A34\n",
        "a = input().rstrip()\n",
        "b = input().rstrip()\n",
        "i = a.find(b)\n",
        "if i == -1:\n",
        "    print(a)\n",
        "else:\n",
        "    print(a[:i] + a[i+len(b):])\n"
      ],
      "metadata": {
        "id": "iFN_lgvc4xZw",
        "colab": {
          "base_uri": "https://localhost:8080/"
        },
        "outputId": "6fb9aefa-c1e4-46a0-9322-38619715fb23"
      },
      "execution_count": null,
      "outputs": [
        {
          "output_type": "stream",
          "name": "stdout",
          "text": [
            "Xin chào mọi người\n",
            "Xin chào\n",
            " mọi người\n"
          ]
        }
      ]
    }
  ]
}