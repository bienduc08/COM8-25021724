{
  "nbformat": 4,
  "nbformat_minor": 0,
  "metadata": {
    "colab": {
      "provenance": [],
      "authorship_tag": "ABX9TyP/BTCbL6KzIEYp6TiYOMUD",
      "include_colab_link": true
    },
    "kernelspec": {
      "name": "python3",
      "display_name": "Python 3"
    },
    "language_info": {
      "name": "python"
    }
  },
  "cells": [
    {
      "cell_type": "markdown",
      "metadata": {
        "id": "view-in-github",
        "colab_type": "text"
      },
      "source": [
        "<a href=\"https://colab.research.google.com/github/bienduc08/COM8-25021724/blob/main/Lab01.ipynb\" target=\"_parent\"><img src=\"https://colab.research.google.com/assets/colab-badge.svg\" alt=\"Open In Colab\"/></a>"
      ]
    },
    {
      "cell_type": "code",
      "source": [
        "#W2A1\n",
        "print(\"Hello World!\")"
      ],
      "metadata": {
        "id": "Y1X2pfjwHMIJ"
      },
      "execution_count": null,
      "outputs": []
    },
    {
      "cell_type": "code",
      "source": [
        "#W2A2\n",
        "name = input(\"Nhập tên của bạn: \")\n",
        "print(\"Xin chào\", name + \"!\")"
      ],
      "metadata": {
        "id": "ig9v2K-_HL7C"
      },
      "execution_count": null,
      "outputs": []
    },
    {
      "cell_type": "code",
      "source": [
        "#W2A3\n",
        "a, b = map(int, input(\"Nhập a b: \").split())\n",
        "print(\"Tổng:\", a + b)\n",
        "print(\"Hiệu:\", a - b)\n",
        "print(\"Tích:\", a * b)\n",
        "print(\"Phần nguyên:\", a // b)\n",
        "print(\"Phần dư:\", a % b)\n",
        "print(\"Chia thực:\", format(a / b, \".2f\"))"
      ],
      "metadata": {
        "id": "j_aV4UL5HL1O"
      },
      "execution_count": null,
      "outputs": []
    },
    {
      "cell_type": "code",
      "source": [
        "#W2A4\n",
        "a1, b1, c1, a2, b2, a3 = map(float, input().split())\n",
        "tb = ((a1 + b1 + c1) + (a2 + b2) * 2 + a3 * 3) / 10\n",
        "print(format(tb, \".1f\"))"
      ],
      "metadata": {
        "id": "qwefY4PWHLvj"
      },
      "execution_count": null,
      "outputs": []
    },
    {
      "cell_type": "code",
      "source": [
        "#W2A5\n",
        "a, b = map(int, input().split())\n",
        "print(a ** b)"
      ],
      "metadata": {
        "id": "wP2j3TFtHLqH"
      },
      "execution_count": null,
      "outputs": []
    },
    {
      "cell_type": "code",
      "source": [
        "#W2A6\n",
        "ch = input(\"Nhập 1 kí tự thường: \")\n",
        "print(\"Mã Unicode:\", ord(ch))\n",
        "print(\"Kí tự hoa:\", ch.upper())"
      ],
      "metadata": {
        "id": "Pwzn_d_3HLki"
      },
      "execution_count": null,
      "outputs": []
    },
    {
      "cell_type": "code",
      "source": [
        "#W2A7\n",
        "A = ((13 ** 2) * 3) + 5\n",
        "B = 13 ** 2 * 3 + 5\n",
        "print(\"A =\", A)\n",
        "print(\"B =\", B)"
      ],
      "metadata": {
        "id": "_0QsWkvHHLe3"
      },
      "execution_count": null,
      "outputs": []
    },
    {
      "cell_type": "code",
      "source": [
        "#w2A8\n",
        "C = float(input(\"Nhập nhiệt độ C: \"))\n",
        "F = 9/5 * C + 32\n",
        "print(format(F, \".2f\"))"
      ],
      "metadata": {
        "id": "VCLCPfG1HLZi"
      },
      "execution_count": null,
      "outputs": []
    },
    {
      "cell_type": "code",
      "source": [
        "#W2A9\n",
        "x = float(input(\"Giá đồng hồ (USD): \"))\n",
        "total = x + 10\n",
        "total = total * 1.3 * 1.1\n",
        "print(format(total, \".2f\"))"
      ],
      "metadata": {
        "id": "RDEfHibDHLTq"
      },
      "execution_count": null,
      "outputs": []
    },
    {
      "cell_type": "code",
      "source": [
        "#W2A10\n",
        "a, b, c = input(\"Nhập tên 3 người: \").split()\n",
        "print(f\"Hi {c}, {b} and {a}.\")"
      ],
      "metadata": {
        "id": "XVjjNbUgHLNo"
      },
      "execution_count": null,
      "outputs": []
    },
    {
      "cell_type": "code",
      "source": [
        "#W2A11\n",
        "h, m = map(int, input().split())\n",
        "seconds = h * 3600 + m * 60\n",
        "print(seconds)"
      ],
      "metadata": {
        "id": "njkLaPQYHLH5"
      },
      "execution_count": null,
      "outputs": []
    },
    {
      "cell_type": "code",
      "source": [
        "#W2A12\n",
        "n = int(input())\n",
        "print(6 * n * n)"
      ],
      "metadata": {
        "id": "xr665eMAHLC4"
      },
      "execution_count": null,
      "outputs": []
    },
    {
      "cell_type": "code",
      "source": [
        "#W2A13\n",
        "a, b = map(int, input().split())\n",
        "print((a * b) % 10)"
      ],
      "metadata": {
        "id": "ojRMJlJmHK9N"
      },
      "execution_count": null,
      "outputs": []
    },
    {
      "cell_type": "code",
      "source": [
        "#W2A14\n",
        "a, b = map(int, input().split())\n",
        "a, b = b, a\n",
        "print(a, b)"
      ],
      "metadata": {
        "id": "WHd8zHXLHK3j"
      },
      "execution_count": null,
      "outputs": []
    },
    {
      "cell_type": "code",
      "source": [
        "#W2A15\n",
        "n = int(input())\n",
        "star_number = 6 * n * (n - 1) + 1\n",
        "print(star_number)"
      ],
      "metadata": {
        "id": "pjAbhPpyHKyx"
      },
      "execution_count": null,
      "outputs": []
    },
    {
      "cell_type": "code",
      "source": [
        "#W2A16\n",
        "print(\"Spring\")\n",
        "print(\"Summer\")\n",
        "print(\"Autumn\")\n",
        "print(\"Winter\")"
      ],
      "metadata": {
        "id": "R3tqIrzuHKsp"
      },
      "execution_count": null,
      "outputs": []
    },
    {
      "cell_type": "code",
      "source": [
        "#W2A17\n",
        "print(\"*\")\n",
        "print(\"***\")\n",
        "print(\"*****\")"
      ],
      "metadata": {
        "id": "0HR_WkPxHKmk"
      },
      "execution_count": null,
      "outputs": []
    },
    {
      "cell_type": "code",
      "source": [
        "#W2A18\n",
        "print(\"### # #     ### ###\")\n",
        "print(\" #    #    #    #    #\")\n",
        "print(\" #    #     #   #    #\")\n",
        "print(\" #    #    #    #    #\")\n",
        "print(\" #    # #       #    #\")"
      ],
      "metadata": {
        "id": "dt1Jw397HKfZ"
      },
      "execution_count": null,
      "outputs": []
    },
    {
      "cell_type": "code",
      "source": [
        "#W2A19\n",
        "print(\"Monday\")\n",
        "print(\"Tuesday\")\n",
        "print(\"Wednesday\")\n",
        "print(\"Thursday\")\n",
        "print(\"Friday\")\n",
        "print(\"Saturday\")\n",
        "print(\"Sunday\")"
      ],
      "metadata": {
        "id": "KImYPpPpHKYq"
      },
      "execution_count": null,
      "outputs": []
    },
    {
      "cell_type": "code",
      "source": [
        "#W2A20\n",
        "print(\"January\")\n",
        "print(\"February\")\n",
        "print(\"March\")\n",
        "print(\"April\")\n",
        "print(\"May\")\n",
        "print(\"June\")\n",
        "print(\"July\")\n",
        "print(\"August\")\n",
        "print(\"September\")\n",
        "print(\"October\")\n",
        "print(\"November\")\n",
        "print(\"December\")"
      ],
      "metadata": {
        "id": "aDBfy7QhHKOD"
      },
      "execution_count": null,
      "outputs": []
    },
    {
      "cell_type": "code",
      "source": [
        "#W2A21\n",
        "for _ in range(10):\n",
        "    print(\"Hello, world\")"
      ],
      "metadata": {
        "id": "pO2VxELnHKE7"
      },
      "execution_count": null,
      "outputs": []
    }
  ]
}