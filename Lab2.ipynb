
{
  "nbformat": 4,
  "nbformat_minor": 0,
  "metadata": {
    "colab": {
      "provenance": [],
      "authorship_tag": "ABX9TyP/BTCbL6KzIEYp6TiYOMUD",
      "include_colab_link": true
    },
    "kernelspec": {
      "name": "python3",
      "display_name": "Python 3"
    },
    "language_info": {
      "name": "python"
    }
  },
  "cells": [
    {
      "cell_type": "markdown",
      "metadata": {
        "id": "view-in-github",
        "colab_type": "text"
      },
      "source": [
        "<a href=\"https://colab.research.google.com/github/bienduc08/COM8-25021724/blob/main/Lab01.ipynb\" target=\"_parent\"><img src=\"https://colab.research.google.com/assets/colab-badge.svg\" alt=\"Open In Colab\"/></a>"
      ]
    },
    {
      "cell_type": "code",
      "source": [
        "#W2A1\n",
        "print(\"Hello World!\")"
      ],
      "metadata": {
        "id": "Y1X2pfjwHMIJ",
        "outputId": "b2e2c152-0ab1-455c-f672-0888c6dd2c6d",
        "colab": {
          "base_uri": "https://localhost:8080/"
        }
      },
      "execution_count": 1,
      "outputs": [
        {
          "output_type": "stream",
          "name": "stdout",
          "text": [
            "Hello World!\n"
          ]
        }
      ]
    },
    {
      "cell_type": "code",
      "source": [
        "#W2A2\n",
        "name = input(\"Nhập tên của bạn: \")\n",
        "print(\"Xin chào\", name + \"!\")"
      ],
      "metadata": {
        "id": "ig9v2K-_HL7C",
        "outputId": "00e2e4f2-cbfb-42d2-f8bc-d1cf8dba47bd",
        "colab": {
          "base_uri": "https://localhost:8080/"
        }
      },
      "execution_count": 2,
      "outputs": [
        {
          "output_type": "stream",
          "name": "stdout",
          "text": [
            "Nhập tên của bạn: minh duc\n",
            "Xin chào minh duc!\n"
          ]
        }
      ]
    },
    {
      "cell_type": "code",
      "source": [
        "#W2A3\n",
        "a, b = map(int, input(\"Nhập a b: \").split())\n",
        "print(\"Tổng:\", a + b)\n",
        "print(\"Hiệu:\", a - b)\n",
        "print(\"Tích:\", a * b)\n",
        "print(\"Phần nguyên:\", a // b)\n",
        "print(\"Phần dư:\", a % b)\n",
        "print(\"Chia thực:\", format(a / b, \".2f\"))"
      ],
      "metadata": {
        "id": "j_aV4UL5HL1O",
        "outputId": "fc2451ba-9e4b-4d4a-c2b8-7aa5c104bc32",
        "colab": {
          "base_uri": "https://localhost:8080/"
        }
      },
      "execution_count": 1,
      "outputs": [
        {
          "output_type": "stream",
          "name": "stdout",
          "text": [
            "Nhập a b: 18 6\n",
            "Tổng: 24\n",
            "Hiệu: 12\n",
            "Tích: 108\n",
            "Phần nguyên: 3\n",
            "Phần dư: 0\n",
            "Chia thực: 3.00\n"
          ]
        }
      ]
    },
    {
      "cell_type": "code",
      "source": [
        "#W2A4\n",
        "a1, b1, c1, a2, b2, a3 = map(float, input().split())\n",
        "tb = ((a1 + b1 + c1) + (a2 + b2) * 2 + a3 * 3) / 10\n",
        "print(format(tb, \".1f\"))"
      ],
      "metadata": {
        "id": "qwefY4PWHLvj",
        "outputId": "20c15bf1-4399-4aff-cd03-33da9f849353",
        "colab": {
          "base_uri": "https://localhost:8080/"
        }
      },
      "execution_count": 2,
      "outputs": [
        {
          "output_type": "stream",
          "name": "stdout",
          "text": [
            "6 3 4 5 6 2\n",
            "4.1\n"
          ]
        }
      ]
    },
    {
      "cell_type": "code",
      "source": [
        "#W2A5\n",
        "a, b = map(int, input().split())\n",
        "print(a ** b)"
      ],
      "metadata": {
        "id": "wP2j3TFtHLqH",
        "outputId": "219e11e8-fa8a-4977-a300-69e5ba67642a",
        "colab": {
          "base_uri": "https://localhost:8080/"
        }
      },
      "execution_count": 4,
      "outputs": [
        {
          "output_type": "stream",
          "name": "stdout",
          "text": [
            "6 7\n",
            "279936\n"
          ]
        }
      ]
    },
    {
      "cell_type": "code",
      "source": [
        "#W2A6\n",
        "ch = input(\"Nhập 1 kí tự thường: \")\n",
        "print(\"Mã Unicode:\", ord(ch))\n",
        "print(\"Kí tự hoa:\", ch.upper())"
      ],
      "metadata": {
        "id": "Pwzn_d_3HLki",
        "outputId": "092680ba-9449-49e3-b5a1-47a28e96aae1",
        "colab": {
          "base_uri": "https://localhost:8080/"
        }
      },
      "execution_count": 5,
      "outputs": [
        {
          "output_type": "stream",
          "name": "stdout",
          "text": [
            "Nhập 1 kí tự thường: d\n",
            "Mã Unicode: 100\n",
            "Kí tự hoa: D\n"
          ]
        }
      ]
    },
    {
      "cell_type": "code",
      "source": [
        "#W2A7\n",
        "A = ((13 ** 2) * 3) + 5\n",
        "B = 13 ** 2 * 3 + 5\n",
        "print(\"A =\", A)\n",
        "print(\"B =\", B)"
      ],
      "metadata": {
        "id": "_0QsWkvHHLe3",
        "outputId": "5badb52c-cce3-4f5c-82f3-608fa17c7c65",
        "colab": {
          "base_uri": "https://localhost:8080/"
        }
      },
      "execution_count": 6,
      "outputs": [
        {
          "output_type": "stream",
          "name": "stdout",
          "text": [
            "A = 512\n",
            "B = 512\n"
          ]
        }
      ]
    },
    {
      "cell_type": "code",
      "source": [
        "#w2A8\n",
        "C = float(input(\"Nhập nhiệt độ C: \"))\n",
        "F = 9/5 * C + 32\n",
        "print(format(F, \".2f\"))"
      ],
      "metadata": {
        "id": "VCLCPfG1HLZi",
        "outputId": "eb850c94-c368-4136-dfe0-6587b1c303a1",
        "colab": {
          "base_uri": "https://localhost:8080/"
        }
      },
      "execution_count": 7,
      "outputs": [
        {
          "output_type": "stream",
          "name": "stdout",
          "text": [
            "Nhập nhiệt độ C: 35\n",
            "95.00\n"
          ]
        }
      ]
    },
    {
      "cell_type": "code",
      "source": [
        "#W2A9\n",
        "x = float(input(\"Giá đồng hồ (USD): \"))\n",
        "total = x + 10\n",
        "total = total * 1.3 * 1.1\n",
        "print(format(total, \".2f\"))"
      ],
      "metadata": {
        "id": "RDEfHibDHLTq",
        "outputId": "28b3f1df-0e11-48e9-c3e4-223fe136bd31",
        "colab": {
          "base_uri": "https://localhost:8080/"
        }
      },
      "execution_count": 8,
      "outputs": [
        {
          "output_type": "stream",
          "name": "stdout",
          "text": [
            "Giá đồng hồ (USD): 1000\n",
            "1444.30\n"
          ]
        }
      ]
    },
    {
      "cell_type": "code",
      "source": [
        "#W2A10\n",
        "a, b, c = input(\"Nhập tên 3 người: \").split()\n",
        "print(f\"Hi {c}, {b} and {a}.\")"
      ],
      "metadata": {
        "id": "XVjjNbUgHLNo",
        "outputId": "b2c3a739-4a92-49b7-90a2-f396d5eb1751",
        "colab": {
          "base_uri": "https://localhost:8080/"
        }
      },
      "execution_count": 9,
      "outputs": [
        {
          "output_type": "stream",
          "name": "stdout",
          "text": [
            "Nhập tên 3 người: minh hanh dung\n",
            "Hi dung, hanh and minh.\n"
          ]
        }
      ]
    },
    {
      "cell_type": "code",
      "source": [
        "#W2A11\n",
        "h, m = map(int, input().split())\n",
        "seconds = h * 3600 + m * 60\n",
        "print(seconds)"
      ],
      "metadata": {
        "id": "njkLaPQYHLH5",
        "outputId": "6257c5cf-fccf-41e0-b1b0-179b8df7de6a",
        "colab": {
          "base_uri": "https://localhost:8080/"
        }
      },
      "execution_count": 11,
      "outputs": [
        {
          "output_type": "stream",
          "name": "stdout",
          "text": [
            "7 8\n",
            "25680\n"
          ]
        }
      ]
    },
    {
      "cell_type": "code",
      "source": [
        "#W2A12\n",
        "n = int(input())\n",
        "print(6 * n * n)"
      ],
      "metadata": {
        "id": "xr665eMAHLC4",
        "outputId": "5f8a5c59-fac3-4084-9770-e3ea40471891",
        "colab": {
          "base_uri": "https://localhost:8080/"
        }
      },
      "execution_count": 12,
      "outputs": [
        {
          "output_type": "stream",
          "name": "stdout",
          "text": [
            "7\n",
            "294\n"
          ]
        }
      ]
    },
    {
      "cell_type": "code",
      "source": [
        "#W2A13\n",
        "a, b = map(int, input().split())\n",
        "print((a * b) % 10)"
      ],
      "metadata": {
        "id": "ojRMJlJmHK9N",
        "outputId": "f718361b-c7cb-40ce-a948-3da91ad86601",
        "colab": {
          "base_uri": "https://localhost:8080/"
        }
      },
      "execution_count": 14,
      "outputs": [
        {
          "output_type": "stream",
          "name": "stdout",
          "text": [
            "9 4\n",
            "6\n"
          ]
        }
      ]
    },
    {
      "cell_type": "code",
      "source": [
        "#W2A14\n",
        "a, b = map(int, input().split())\n",
        "a, b = b, a\n",
        "print(a, b)"
      ],
      "metadata": {
        "id": "WHd8zHXLHK3j",
        "outputId": "1b8b4199-307e-425b-c9d3-3bbab768df0a",
        "colab": {
          "base_uri": "https://localhost:8080/"
        }
      },
      "execution_count": 15,
      "outputs": [
        {
          "output_type": "stream",
          "name": "stdout",
          "text": [
            "8 7\n",
            "7 8\n"
          ]
        }
      ]
    },
    {
      "cell_type": "code",
      "source": [
        "#W2A15\n",
        "n = int(input())\n",
        "star_number = 6 * n * (n - 1) + 1\n",
        "print(star_number)"
      ],
      "metadata": {
        "id": "pjAbhPpyHKyx",
        "outputId": "0ba88045-cd46-4e5e-e77b-c55c9ca76796",
        "colab": {
          "base_uri": "https://localhost:8080/"
        }
      },
      "execution_count": 16,
      "outputs": [
        {
          "output_type": "stream",
          "name": "stdout",
          "text": [
            "8\n",
            "337\n"
          ]
        }
      ]
    },
    {
      "cell_type": "code",
      "source": [
        "#W2A16\n",
        "print(\"Spring\")\n",
        "print(\"Summer\")\n",
        "print(\"Autumn\")\n",
        "print(\"Winter\")"
      ],
      "metadata": {
        "id": "R3tqIrzuHKsp",
        "outputId": "bc2f4f5e-639d-498e-b713-44588af8779f",
        "colab": {
          "base_uri": "https://localhost:8080/"
        }
      },
      "execution_count": 17,
      "outputs": [
        {
          "output_type": "stream",
          "name": "stdout",
          "text": [
            "Spring\n",
            "Summer\n",
            "Autumn\n",
            "Winter\n"
          ]
        }
      ]
    },
    {
      "cell_type": "code",
      "source": [
        "#W2A17\n",
        "print(\"*\")\n",
        "print(\"***\")\n",
        "print(\"*****\")"
      ],
      "metadata": {
        "id": "0HR_WkPxHKmk",
        "outputId": "0aea94a6-9728-4064-dc3a-cdd614838344",
        "colab": {
          "base_uri": "https://localhost:8080/"
        }
      },
      "execution_count": 18,
      "outputs": [
        {
          "output_type": "stream",
          "name": "stdout",
          "text": [
            "*\n",
            "***\n",
            "*****\n"
          ]
        }
      ]
    },
    {
      "cell_type": "code",
      "source": [
        "#W2A18\n",
        "print(\"### # #     ### ###\")\n",
        "print(\" #    #    #    #    #\")\n",
        "print(\" #    #     #   #    #\")\n",
        "print(\" #    #    #    #    #\")\n",
        "print(\" #    # #       #    #\")"
      ],
      "metadata": {
        "id": "dt1Jw397HKfZ",
        "outputId": "e276ea57-a8d1-48a1-9164-cc11c0d1e6be",
        "colab": {
          "base_uri": "https://localhost:8080/"
        }
      },
      "execution_count": 19,
      "outputs": [
        {
          "output_type": "stream",
          "name": "stdout",
          "text": [
            "### # #     ### ###\n",
            " #    #    #    #    #\n",
            " #    #     #   #    #\n",
            " #    #    #    #    #\n",
            " #    # #       #    #\n"
          ]
        }
      ]
    },
    {
      "cell_type": "code",
      "source": [
        "#W2A19\n",
        "print(\"Monday\")\n",
        "print(\"Tuesday\")\n",
        "print(\"Wednesday\")\n",
        "print(\"Thursday\")\n",
        "print(\"Friday\")\n",
        "print(\"Saturday\")\n",
        "print(\"Sunday\")"
      ],
      "metadata": {
        "id": "KImYPpPpHKYq",
        "outputId": "6ec44d8c-0828-49d2-9768-69e6bf30da87",
        "colab": {
          "base_uri": "https://localhost:8080/"
        }
      },
      "execution_count": 20,
      "outputs": [
        {
          "output_type": "stream",
          "name": "stdout",
          "text": [
            "Monday\n",
            "Tuesday\n",
            "Wednesday\n",
            "Thursday\n",
            "Friday\n",
            "Saturday\n",
            "Sunday\n"
          ]
        }
      ]
    },
    {
      "cell_type": "code",
      "source": [
        "#W2A20\n",
        "print(\"January\")\n",
        "print(\"February\")\n",
        "print(\"March\")\n",
        "print(\"April\")\n",
        "print(\"May\")\n",
        "print(\"June\")\n",
        "print(\"July\")\n",
        "print(\"August\")\n",
        "print(\"September\")\n",
        "print(\"October\")\n",
        "print(\"November\")\n",
        "print(\"December\")"
      ],
      "metadata": {
        "id": "aDBfy7QhHKOD",
        "outputId": "250eb70b-8a4e-4874-bf55-e44f4350a210",
        "colab": {
          "base_uri": "https://localhost:8080/"
        }
      },
      "execution_count": 21,
      "outputs": [
        {
          "output_type": "stream",
          "name": "stdout",
          "text": [
            "January\n",
            "February\n",
            "March\n",
            "April\n",
            "May\n",
            "June\n",
            "July\n",
            "August\n",
            "September\n",
            "October\n",
            "November\n",
            "December\n"
          ]
        }
      ]
    },
    {
      "cell_type": "code",
      "source": [
        "#W2A21\n",
        "for _ in range(10):\n",
        "    print(\"Hello, world\")"
      ],
      "metadata": {
        "id": "pO2VxELnHKE7",
        "outputId": "19a1f636-198e-40da-aa16-0e4a7f9b42a4",
        "colab": {
          "base_uri": "https://localhost:8080/"
        }
      },
      "execution_count": 22,
      "outputs": [
        {
          "output_type": "stream",
          "name": "stdout",
          "text": [
            "Hello, world\n",
            "Hello, world\n",
            "Hello, world\n",
            "Hello, world\n",
            "Hello, world\n",
            "Hello, world\n",
            "Hello, world\n",
            "Hello, world\n",
            "Hello, world\n",
            "Hello, world\n"
          ]
        }
      ]
    }
  ]
}
