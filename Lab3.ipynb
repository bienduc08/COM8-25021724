{
  "nbformat": 4,
  "nbformat_minor": 0,
  "metadata": {
    "colab": {
      "provenance": [],
      "authorship_tag": "ABX9TyMB05KjGmSjDl6OLLPE5cxg",
      "include_colab_link": true
    },
    "kernelspec": {
      "name": "python3",
      "display_name": "Python 3"
    },
    "language_info": {
      "name": "python"
    }
  },
  "cells": [
    {
      "cell_type": "markdown",
      "metadata": {
        "id": "view-in-github",
        "colab_type": "text"
      },
      "source": [
        "<a href=\"https://colab.research.google.com/github/bienduc08/COM8-25021724/blob/main/Lab3.ipynb\" target=\"_parent\"><img src=\"https://colab.research.google.com/assets/colab-badge.svg\" alt=\"Open In Colab\"/></a>"
      ]
    },
    {
      "cell_type": "code",
      "execution_count": null,
      "metadata": {
        "colab": {
          "base_uri": "https://localhost:8080/"
        },
        "id": "mfjzwSliYXQ9",
        "outputId": "c0937237-5bcd-4187-a652-54f0e5910b83"
      },
      "outputs": [
        {
          "output_type": "stream",
          "name": "stdout",
          "text": [
            "Nhập số nguyên n: 3578345869\n",
            "9685438753\n"
          ]
        }
      ],
      "source": [
        "#W3A1\n",
        "n = int(input(\"Nhập số nguyên n: \"))\n",
        "rev = int(str(n)[::-1])\n",
        "print(rev)"
      ]
    },
    {
      "cell_type": "code",
      "source": [
        "#W3A2\n",
        "a, b = map(int, input(\"Nhập a b: \").split())\n",
        "a = a ^ b\n",
        "b = a ^ b\n",
        "a = a ^ b\n",
        "print(a, b)\n"
      ],
      "metadata": {
        "colab": {
          "base_uri": "https://localhost:8080/"
        },
        "id": "HlLYtPRgYvNt",
        "outputId": "524418c6-1b96-4f8c-f9b5-612ea142303c"
      },
      "execution_count": null,
      "outputs": [
        {
          "output_type": "stream",
          "name": "stdout",
          "text": [
            "Nhập a b: 6 7\n",
            "7 6\n"
          ]
        }
      ]
    },
    {
      "cell_type": "code",
      "source": [
        "#W3A3\n",
        "n = int(input(\"Nhập n: \"))\n",
        "if n % 2 == 0:\n",
        "    print(True)\n",
        "else:\n",
        "    print(False)\n"
      ],
      "metadata": {
        "colab": {
          "base_uri": "https://localhost:8080/"
        },
        "id": "C_PAwDGYYu8S",
        "outputId": "9bd3dd99-db16-4f30-ca16-5b3694d4c298"
      },
      "execution_count": null,
      "outputs": [
        {
          "output_type": "stream",
          "name": "stdout",
          "text": [
            "Nhập n: 64\n",
            "True\n"
          ]
        }
      ]
    },
    {
      "cell_type": "code",
      "source": [
        "#W3A4\n",
        "m, n = map(int, input(\"Nhập m n: \").split())\n",
        "print(round(m/n))\n"
      ],
      "metadata": {
        "colab": {
          "base_uri": "https://localhost:8080/"
        },
        "id": "N2EnzjziYuj4",
        "outputId": "e9ac2173-11ac-416f-8806-b8bc301c7caf"
      },
      "execution_count": null,
      "outputs": [
        {
          "output_type": "stream",
          "name": "stdout",
          "text": [
            "Nhập m n: 3467 23\n",
            "151\n"
          ]
        }
      ]
    },
    {
      "cell_type": "code",
      "source": [
        "#W3A5\n",
        "x = int(input(\"Nhập số nguyên dương: \"))\n",
        "if x % 2 == 0:\n",
        "    print(\"Even\")\n",
        "else:\n",
        "    print(\"Odd\")\n"
      ],
      "metadata": {
        "colab": {
          "base_uri": "https://localhost:8080/"
        },
        "id": "IuCmsDhuZbht",
        "outputId": "af1b0adb-ef85-4bb2-a1a1-8d817c025f8d"
      },
      "execution_count": null,
      "outputs": [
        {
          "output_type": "stream",
          "name": "stdout",
          "text": [
            "Nhập số nguyên dương: 67\n",
            "Odd\n"
          ]
        }
      ]
    },
    {
      "cell_type": "code",
      "source": [
        "#W3A6\n",
        "a, b = map(int, input(\"Nhập a b: \").split())\n",
        "if a < 0 and b < 0:\n",
        "    print(\"Yes\")\n",
        "else:\n",
        "    print(\"No\")\n"
      ],
      "metadata": {
        "colab": {
          "base_uri": "https://localhost:8080/"
        },
        "id": "vwJunfo9ZbZK",
        "outputId": "46f17af8-9146-4745-943e-a93b3d9ed01f"
      },
      "execution_count": null,
      "outputs": [
        {
          "output_type": "stream",
          "name": "stdout",
          "text": [
            "Nhập a b: 89 56\n",
            "No\n"
          ]
        }
      ]
    },
    {
      "cell_type": "code",
      "source": [
        "#W3A7\n",
        "a = input(\"Nhập chuỗi a: \")\n",
        "b = input(\"Nhập chuỗi b: \")\n",
        "if len(a) > len(b):\n",
        "    print(True)\n",
        "else:\n",
        "    print(False)\n"
      ],
      "metadata": {
        "colab": {
          "base_uri": "https://localhost:8080/"
        },
        "id": "_ECGEaijZbNt",
        "outputId": "8e64206f-0f8d-4626-99aa-a53c8a700058"
      },
      "execution_count": null,
      "outputs": [
        {
          "output_type": "stream",
          "name": "stdout",
          "text": [
            "Nhập chuỗi a: fgsdfgk\n",
            "Nhập chuỗi b: sfdhgfgkdfg\n",
            "False\n"
          ]
        }
      ]
    },
    {
      "cell_type": "code",
      "source": [
        "#W3A8\n",
        "a, b, c = map(int, input(\"Nhập 3 cạnh: \").split())\n",
        "if a+b>c and a+c>b and b+c>a:\n",
        "    print(\"Yes\")\n",
        "else:\n",
        "    print(\"No\")\n"
      ],
      "metadata": {
        "colab": {
          "base_uri": "https://localhost:8080/"
        },
        "id": "NuHhDW8_Za-D",
        "outputId": "6362cc24-a3d4-4877-8ac7-cf5ba5b8da89"
      },
      "execution_count": null,
      "outputs": [
        {
          "output_type": "stream",
          "name": "stdout",
          "text": [
            "Nhập 3 cạnh: 4 7 12\n",
            "No\n"
          ]
        }
      ]
    },
    {
      "cell_type": "code",
      "source": [
        "#W3A9\n",
        "nums = list(map(int, input(\"Nhập 4 số: \").split()))\n",
        "print(max(nums))\n"
      ],
      "metadata": {
        "colab": {
          "base_uri": "https://localhost:8080/"
        },
        "id": "MC0pOKH1aHAC",
        "outputId": "5e30e5ae-0748-409b-95d8-41342fd71366"
      },
      "execution_count": null,
      "outputs": [
        {
          "output_type": "stream",
          "name": "stdout",
          "text": [
            "Nhập 4 số: 43 47 235 345\n",
            "345\n"
          ]
        }
      ]
    },
    {
      "cell_type": "code",
      "source": [
        "#W3A10\n",
        "a, b, c = map(int, input(\"Nhập 3 cạnh: \").split())\n",
        "if a+b>c and a+c>b and b+c>a:\n",
        "    if a==b==c:\n",
        "        print(\"Tam giác đều\")\n",
        "    elif a==b or b==c or a==c:\n",
        "        print(\"Tam giác cân\")\n",
        "    else:\n",
        "        print(\"Tam giác thường\")\n",
        "else:\n",
        "    print(\"Không phải tam giác\")\n"
      ],
      "metadata": {
        "colab": {
          "base_uri": "https://localhost:8080/"
        },
        "id": "czyfJkv5aG8p",
        "outputId": "46e06565-544f-4f74-d974-c54cdc337425"
      },
      "execution_count": null,
      "outputs": [
        {
          "output_type": "stream",
          "name": "stdout",
          "text": [
            "Nhập 3 cạnh: 6 6 9\n",
            "Tam giác cân\n"
          ]
        }
      ]
    },
    {
      "cell_type": "code",
      "source": [
        "#W3A11\n",
        "year = int(input(\"Nhập năm: \"))\n",
        "if (year % 400 == 0) or (year % 4 == 0 and year % 100 != 0):\n",
        "    print(\"Yes\")\n",
        "else:\n",
        "    print(\"No\")\n"
      ],
      "metadata": {
        "colab": {
          "base_uri": "https://localhost:8080/"
        },
        "id": "FZ2PbvL0aG4s",
        "outputId": "ed3df0cf-f4ba-49e5-9590-2fd11866a079"
      },
      "execution_count": null,
      "outputs": [
        {
          "output_type": "stream",
          "name": "stdout",
          "text": [
            "Nhập năm: 2016\n",
            "Yes\n"
          ]
        }
      ]
    },
    {
      "cell_type": "code",
      "source": [
        "#W3A12\n",
        "kwh = int(input(\"Nhập số kWh: \"))\n",
        "if kwh <= 50:\n",
        "    cost = kwh * 1500\n",
        "elif kwh <= 100:\n",
        "    cost = 50*1500 + (kwh-50)*2000\n",
        "else:\n",
        "    cost = 50*1500 + 50*2000 + (kwh-100)*3000\n",
        "print(cost)\n"
      ],
      "metadata": {
        "colab": {
          "base_uri": "https://localhost:8080/"
        },
        "id": "3JCMzawdaG1Q",
        "outputId": "bcd30058-9371-41b6-82f9-39302fb35ea4"
      },
      "execution_count": null,
      "outputs": [
        {
          "output_type": "stream",
          "name": "stdout",
          "text": [
            "Nhập số kWh: 247\n",
            "616000\n"
          ]
        }
      ]
    },
    {
      "cell_type": "code",
      "source": [
        "#W3A13\n",
        "a = float(input(\"Nhập a: \"))\n",
        "b = float(input(\"Nhập b: \"))\n",
        "if a == 0:\n",
        "    if b == 0:\n",
        "        print(\"Vô số nghiệm\")\n",
        "    else:\n",
        "        print(\"Vô nghiệm\")\n",
        "else:\n",
        "    print(-b/a)\n"
      ],
      "metadata": {
        "colab": {
          "base_uri": "https://localhost:8080/"
        },
        "id": "RI4UrYcFaGvh",
        "outputId": "156e9bdc-83e4-48e6-e339-fe9d8090a9d0"
      },
      "execution_count": null,
      "outputs": [
        {
          "output_type": "stream",
          "name": "stdout",
          "text": [
            "Nhập a: 2\n",
            "Nhập b: 5\n",
            "-2.5\n"
          ]
        }
      ]
    },
    {
      "cell_type": "code",
      "source": [
        "#W3A14\n",
        "score = float(input(\"Nhập điểm: \"))\n",
        "if score >= 8:\n",
        "    print(\"Giỏi\")\n",
        "elif score >= 6.5:\n",
        "    print(\"Khá\")\n",
        "elif score >= 5:\n",
        "    print(\"Trung bình\")\n",
        "else:\n",
        "    print(\"Yếu\")\n"
      ],
      "metadata": {
        "colab": {
          "base_uri": "https://localhost:8080/"
        },
        "id": "HraT8rViaGmE",
        "outputId": "6c7609be-953e-4207-e91d-be235616ace3"
      },
      "execution_count": null,
      "outputs": [
        {
          "output_type": "stream",
          "name": "stdout",
          "text": [
            "Nhập điểm: 8.6\n",
            "Giỏi\n"
          ]
        }
      ]
    },
    {
      "cell_type": "code",
      "source": [
        "#W3A15\n",
        "x = float(input(\"Nhập số: \"))\n",
        "print(round(x))\n"
      ],
      "metadata": {
        "colab": {
          "base_uri": "https://localhost:8080/"
        },
        "id": "CK5XKQBqaGar",
        "outputId": "407188f1-e965-4029-f4e5-9af2f0720f0e"
      },
      "execution_count": 1,
      "outputs": [
        {
          "output_type": "stream",
          "name": "stdout",
          "text": [
            "Nhập số: 4537.38684\n",
            "4537\n"
          ]
        }
      ]
    }
  ]
}