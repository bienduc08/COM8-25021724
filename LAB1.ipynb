{
  "nbformat": 4,
  "nbformat_minor": 0,
  "metadata": {
    "colab": {
      "provenance": [],
      "authorship_tag": "ABX9TyMsMX6+1R+iSIyAb9jWPfSp",
      "include_colab_link": true
    },
    "kernelspec": {
      "name": "python3",
      "display_name": "Python 3"
    },
    "language_info": {
      "name": "python"
    }
  },
  "cells": [
    {
      "cell_type": "markdown",
      "metadata": {
        "id": "view-in-github",
        "colab_type": "text"
      },
      "source": [
        "<a href=\"https://colab.research.google.com/github/bienduc08/COM8-25021724/blob/main/LAB1.ipynb\" target=\"_parent\"><img src=\"https://colab.research.google.com/assets/colab-badge.svg\" alt=\"Open In Colab\"/></a>"
      ]
    },
    {
      "cell_type": "code",
      "execution_count": null,
      "metadata": {
        "colab": {
          "base_uri": "https://localhost:8080/"
        },
        "id": "_Gx-VU62UxEX",
        "outputId": "f0e3d474-7597-41f5-ac3b-3d9a7362ad5f"
      },
      "outputs": [
        {
          "output_type": "stream",
          "name": "stdout",
          "text": [
            "2\n"
          ]
        }
      ],
      "source": [
        "#W1A1\n",
        "a = 7 #gán biến a bằng 7\n",
        "b = 5 #gán biến b bằng 5\n",
        "c = a - b #gán biến c bằng hiệu của a và b\n",
        "print(c) #in giá trị của c=a-b"
      ]
    },
    {
      "cell_type": "code",
      "source": [
        "#W1A2\n",
        "city = \"Hà Nội\" #gán biến city bằng chuỗi \"Hà Nội\"\n",
        "year = 2025 #gán biến year bằng số 2025\n",
        "print(\"Thành phố:\", city, \"-Năm:\", year) #in giá trị của city và year"
      ],
      "metadata": {
        "colab": {
          "base_uri": "https://localhost:8080/"
        },
        "id": "xjNBF5rcU1Fc",
        "outputId": "cf49f2b4-e268-472a-95d2-be1b300a3225"
      },
      "execution_count": null,
      "outputs": [
        {
          "output_type": "stream",
          "name": "stdout",
          "text": [
            "Thành phố: Hà Nội -Năm: 2025\n"
          ]
        }
      ]
    },
    {
      "cell_type": "code",
      "source": [
        "#W1A3\n",
        "n = 4 #gán biến n bằng 4\n",
        "t = 0 #gán biến t bằng 0\n",
        "for i in range(1, n + 1) : #vòng lặp từ 1 đến n\n",
        "    t += i #cộng dồn giá trị i vào t\n",
        "print(t) #in giá trị của t"
      ],
      "metadata": {
        "colab": {
          "base_uri": "https://localhost:8080/"
        },
        "id": "MCeQ24ttU03g",
        "outputId": "44f1e7e3-5767-4a0b-ba8e-848fe5033f24"
      },
      "execution_count": null,
      "outputs": [
        {
          "output_type": "stream",
          "name": "stdout",
          "text": [
            "10\n"
          ]
        }
      ]
    },
    {
      "cell_type": "code",
      "source": [
        "#W1A4\n",
        "numbers = [1, 2, 3, 4] #danh sách các số\n",
        "for x in numbers : #vòng lặp qua từng phần tử trong danh sách\n",
        "    if x % 2 == 0 : #kiểm tra nếu phần tử x chia hết cho 2\n",
        "        print(x, \"là số chẵn\") #in ra x là số chẵn\n",
        "    else : #nếu không thì\n",
        "        print(x, \"là số lẻ\") #in ra x là số lẻ\n"
      ],
      "metadata": {
        "colab": {
          "base_uri": "https://localhost:8080/"
        },
        "id": "InFaKR9NU0jO",
        "outputId": "06d4af3c-a147-47f7-bf92-6d51144a0359"
      },
      "execution_count": null,
      "outputs": [
        {
          "output_type": "stream",
          "name": "stdout",
          "text": [
            "1 là số lẻ\n",
            "2 là số chẵn\n",
            "3 là số lẻ\n",
            "4 là số chẵn\n"
          ]
        }
      ]
    },
    {
      "cell_type": "code",
      "source": [
        "#W1A5\n",
        "animals = [\"cat\", \"dog\", \"cat\", \"bird\"] #danh sách các con vật\n",
        "count = 0 #biến đếm số\n",
        "for a in animals : #vòng lặp qua từng phần tử trong danh sách\n",
        "    count += 1 #tăng biến đếm lên 1\n",
        "print(\"Số phần tử trong danh sách là:\", count) #in ra số lượng phần tử trong danh sách"
      ],
      "metadata": {
        "colab": {
          "base_uri": "https://localhost:8080/"
        },
        "id": "wz3TejZRUzpl",
        "outputId": "53d0b4d1-6b7e-4bb8-834f-7a673e90fa03"
      },
      "execution_count": null,
      "outputs": [
        {
          "output_type": "stream",
          "name": "stdout",
          "text": [
            "Số phần tử trong danh sách là: 4\n"
          ]
        }
      ]
    },
    {
      "cell_type": "markdown",
      "source": [
        "#W1A6\n",
        "Chương trình này là một menu lựa chọn cho người dùng. Nó in ra các tùy chọn để sau đó người dùng nhập lựa chọn và chương trình sẽ thực hiện tác vụ tương ứng"
      ],
      "metadata": {
        "id": "-ckOkuGbVcmD"
      }
    },
    {
      "cell_type": "code",
      "source": [
        "#W1A7\n",
        "num = int(input(\"Nhập số: \")) #yêu cầu người dùng nhập một số\n",
        "if num % 2 == 0 : #kiểm tra nếu số chia hết cho 2\n",
        "    print(\"Số chẵn\") #in ra số là số chẵn\n",
        "else :\n",
        "    print(\"Số lẻ\") #in ra số là số lẻ"
      ],
      "metadata": {
        "colab": {
          "base_uri": "https://localhost:8080/"
        },
        "id": "zDMrByXXVCZw",
        "outputId": "770606e1-33f6-466f-865b-d4971fd78fa4"
      },
      "execution_count": null,
      "outputs": [
        {
          "output_type": "stream",
          "name": "stdout",
          "text": [
            "Nhập số: 76\n",
            "Số chẵn\n"
          ]
        }
      ]
    },
    {
      "cell_type": "code",
      "source": [
        "#W1A8\n",
        "for i in range(3) : #vòng lặp từ 0 đến 2\n",
        "    print(\"AI đang học lần\", i+1) #in ra số lần học hiện tại\n",
        "print(\"Huấn luyện xong\") #in ra thông báo huấn luyện xong"
      ],
      "metadata": {
        "colab": {
          "base_uri": "https://localhost:8080/"
        },
        "id": "JfXcbIfcVkFg",
        "outputId": "c0cf8079-af35-46cb-ef28-4221c59ef53e"
      },
      "execution_count": null,
      "outputs": [
        {
          "output_type": "stream",
          "name": "stdout",
          "text": [
            "AI đang học lần 1\n",
            "AI đang học lần 2\n",
            "AI đang học lần 3\n",
            "Huấn luyện xong\n"
          ]
        }
      ]
    },
    {
      "cell_type": "code",
      "source": [
        "#W1A9\n",
        "for x in [\"cat\", \"dog\", \"fish\"]:\n",
        "    print(\"Dự đoán con vật:\", x)\n",
        "#Đoạn code in ra 3 dòng, mỗi dòng là một con vật từ danh sách đã cho."
      ],
      "metadata": {
        "colab": {
          "base_uri": "https://localhost:8080/"
        },
        "id": "EwVBM27cVvA0",
        "outputId": "73850b6c-2dc1-45ac-9c33-966c55324fd9"
      },
      "execution_count": null,
      "outputs": [
        {
          "output_type": "stream",
          "name": "stdout",
          "text": [
            "Dự đoán con vật: cat\n",
            "Dự đoán con vật: dog\n",
            "Dự đoán con vật: fish\n"
          ]
        }
      ]
    },
    {
      "cell_type": "code",
      "source": [
        "#W1A10\n",
        "print \"=== AI Prediction System ===\" #thiếu dấu ngoặc đơn\n",
        "print(\"1) Sentiment analysis\" #Thiếu dấu đóng ngoặc đơn\n",
        "print(\"2) Weather forecast\")) #Thừa dấu đóng ngoặc đơn\n",
        "print('3) Exit' #Thiếu dấu đóng ngoặc đơn\n",
        "print(\"Please choose an option:\")"
      ],
      "metadata": {
        "colab": {
          "base_uri": "https://localhost:8080/",
          "height": 106
        },
        "id": "3UV9gFtJVu2N",
        "outputId": "ef918325-1337-4d7f-8f58-3647eb4473ca"
      },
      "execution_count": null,
      "outputs": [
        {
          "output_type": "error",
          "ename": "SyntaxError",
          "evalue": "Missing parentheses in call to 'print'. Did you mean print(...)? (ipython-input-407549178.py, line 2)",
          "traceback": [
            "\u001b[0;36m  File \u001b[0;32m\"/tmp/ipython-input-407549178.py\"\u001b[0;36m, line \u001b[0;32m2\u001b[0m\n\u001b[0;31m    print \"=== AI Prediction System ===\" #thiếu dấu ngoặc đơn\u001b[0m\n\u001b[0m    ^\u001b[0m\n\u001b[0;31mSyntaxError\u001b[0m\u001b[0;31m:\u001b[0m Missing parentheses in call to 'print'. Did you mean print(...)?\n"
          ]
        }
      ]
    }
  ]
}